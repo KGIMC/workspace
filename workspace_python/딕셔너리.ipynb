{
 "cells": [
  {
   "cell_type": "code",
   "execution_count": null,
   "metadata": {},
   "outputs": [],
   "source": [
    "# 딕셔너리(Dictionary)"
   ]
  },
  {
   "cell_type": "code",
   "execution_count": null,
   "metadata": {},
   "outputs": [],
   "source": [
    "# 빈 딕셔너리 생성\n",
    "dic1 = {}\n",
    "# 데이터 여러개 저장 가능 (객체와 동일 - Key, Value가 존재)\n",
    "dic2 = {'name' : 'kim', 'age' : 20} "
   ]
  },
  {
   "cell_type": "code",
   "execution_count": 1,
   "metadata": {},
   "outputs": [
    {
     "name": "stdout",
     "output_type": "stream",
     "text": [
      "{'stuNum': 3, 'stuName': 'hong'}\n"
     ]
    }
   ],
   "source": [
    "# 중복된 Key 값을 가질 수 없음\n",
    "dic3 = {\n",
    "  'stuNum' : 1,\n",
    "  'stuName' : 'hong',\n",
    "  'stuNum' : 3\n",
    "}\n",
    "\n",
    "print(dic3)\n"
   ]
  },
  {
   "cell_type": "code",
   "execution_count": 2,
   "metadata": {},
   "outputs": [
    {
     "name": "stdout",
     "output_type": "stream",
     "text": [
      "{'name': 'lee', 'age': 30}\n"
     ]
    }
   ],
   "source": [
    "# 데이터 추가\n",
    "# dic['key'] = value\n",
    "dic1 = {}\n",
    "dic1['name'] = 'lee'\n",
    "dic1['age'] = 30\n",
    "\n",
    "print(dic1)"
   ]
  },
  {
   "cell_type": "code",
   "execution_count": 3,
   "metadata": {},
   "outputs": [
    {
     "name": "stdout",
     "output_type": "stream",
     "text": [
      "{'modelName': 'iPhone', 'price': 10000}\n"
     ]
    }
   ],
   "source": [
    "# 데이터 삭제\n",
    "phone = {\n",
    "  'modelName' : 'iPhone',\n",
    "  'price' : 10000,\n",
    "  'color' : 'black'\n",
    "}\n",
    "\n",
    "del phone['color']\n",
    "\n",
    "print(phone)"
   ]
  },
  {
   "cell_type": "code",
   "execution_count": null,
   "metadata": {},
   "outputs": [],
   "source": [
    "# 데이터 출력\n",
    "monitor = {\n",
    "  'brand' : '삼성',\n",
    "  'price' : 10000,\n",
    "  'inch' : 24,\n",
    "  'color' : 'white'\n",
    "}\n",
    "\n",
    "# 브랜드만 출력\n",
    "print(monitor['brand'])\n",
    "\n",
    "# 모든 value값 출력\n",
    "print(monitor.values())\n",
    "\n",
    "# 반복문을 이용한 key와 value를 출력\n",
    "for i in monitor.keys() :\n",
    "  print(i)"
   ]
  },
  {
   "cell_type": "code",
   "execution_count": 10,
   "metadata": {},
   "outputs": [
    {
     "name": "stdout",
     "output_type": "stream",
     "text": [
      "game\n",
      "lee\n"
     ]
    }
   ],
   "source": [
    "intro = {\n",
    "  'name' : 'hong',\n",
    "  'age' : 20,\n",
    "  'hobby' : ['game', 'study'],\n",
    "  'family' : {\n",
    "    'mother' : 'lee',\n",
    "    'father' : 'hong'\n",
    "  }\n",
    "}\n",
    "\n",
    "# intro 데이터에 첫번째 취미 출력\n",
    "# 어머니의 이름을 출력\n",
    "print(intro['hobby'][0])\n",
    "\n",
    "print(intro['family']['mother'])"
   ]
  },
  {
   "cell_type": "code",
   "execution_count": 11,
   "metadata": {},
   "outputs": [
    {
     "name": "stdout",
     "output_type": "stream",
     "text": [
      "{'name': 'hong', 'korScore': 0, 'mathScore': 0}\n"
     ]
    }
   ],
   "source": [
    "# 아래의 데이터를 참고하여 문제 해결\n",
    "student = {\n",
    "  'name' : 'hong',\n",
    "  'korScore' : 0,\n",
    "  'mathScore' : 0\n",
    "}"
   ]
  },
  {
   "cell_type": "code",
   "execution_count": 14,
   "metadata": {},
   "outputs": [
    {
     "name": "stdout",
     "output_type": "stream",
     "text": [
      "{'name': 'hong', 'korScore': 30, 'mathScore': 40, 'totalScore': 70}\n"
     ]
    }
   ],
   "source": [
    "# 위에서 선언한 딕셔너리 데이터의 국어 점수 및 수학 점수를 입력받은 데이터로 변경\n",
    "\n",
    "num1 = int(input('국어 점수 입력'))\n",
    "num2 = int(input('수학 점수 입력'))\n",
    "\n",
    "\n",
    "student['korScore'] = num1\n",
    "student['mathScore'] = num2\n",
    "\n",
    "totalScore = num1 + num2\n",
    "\n",
    "student['totalScore'] = totalScore\n",
    "\n",
    "print(student)"
   ]
  },
  {
   "cell_type": "code",
   "execution_count": null,
   "metadata": {},
   "outputs": [],
   "source": []
  }
 ],
 "metadata": {
  "kernelspec": {
   "display_name": "Python 3",
   "language": "python",
   "name": "python3"
  },
  "language_info": {
   "codemirror_mode": {
    "name": "ipython",
    "version": 3
   },
   "file_extension": ".py",
   "mimetype": "text/x-python",
   "name": "python",
   "nbconvert_exporter": "python",
   "pygments_lexer": "ipython3",
   "version": "3.12.4"
  }
 },
 "nbformat": 4,
 "nbformat_minor": 2
}
