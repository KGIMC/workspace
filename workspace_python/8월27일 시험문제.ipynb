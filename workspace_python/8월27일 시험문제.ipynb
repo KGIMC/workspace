{
 "cells": [
  {
   "cell_type": "code",
   "execution_count": 2,
   "metadata": {},
   "outputs": [
    {
     "name": "stdout",
     "output_type": "stream",
     "text": [
      "2\n"
     ]
    }
   ],
   "source": [
    "# 1. 키보드로 세 수를 입력받고, 입력받은 세 수를 리스트에 저장하고,\n",
    "# 그 후 리스트에 저장된 수 중 가장 큰 수와 가장 작은 수의 차이값을 출력하시오. \n",
    "# ex. 5 - 1 이면 4가 출력되어야함.\n",
    "\n",
    "# 세개의 수 입력받기\n",
    "num1 = int(input('첫번째 수를 입력하세요.'))\n",
    "num2 = int(input('두번째 수를 입력하세요.'))\n",
    "num3 = int(input('세번째 수를 입력하세요.'))\n",
    "\n",
    "# 입력받은 수 저장할 빈 리스트\n",
    "list1 = []\n",
    "\n",
    "# 입력받은 수 저장하기\n",
    "list1.append(num1)\n",
    "list1.append(num2)\n",
    "list1.append(num3)\n",
    "\n",
    "# 리스트에 저장된 입력받은 수 중 큰 수와 작은 수 찾기\n",
    "\n",
    "max1 = max(list1)\n",
    "min1 = min(list1)\n",
    "\n",
    "print(max1 - min1)\n",
    "\n"
   ]
  },
  {
   "cell_type": "code",
   "execution_count": null,
   "metadata": {},
   "outputs": [],
   "source": [
    "# 시험문제 1, 2 번 내용은 8월 22일 배운 내용"
   ]
  },
  {
   "cell_type": "code",
   "execution_count": null,
   "metadata": {},
   "outputs": [],
   "source": [
    "# 시험문제 3,4,5번 내용은 8월 23일 오전에 배운 내용"
   ]
  },
  {
   "cell_type": "code",
   "execution_count": null,
   "metadata": {},
   "outputs": [],
   "source": []
  },
  {
   "cell_type": "code",
   "execution_count": 7,
   "metadata": {},
   "outputs": [
    {
     "name": "stdout",
     "output_type": "stream",
     "text": [
      "2\n"
     ]
    }
   ],
   "source": [
    "# 입력받은 수 저장할 빈 리스트\n",
    "list1 = []\n",
    "\n",
    "# 세개의 수 입력받기 (반복문으로)\n",
    "for i in range(3) :\n",
    "  num = int(input(f'{i + 1}번째 정수 입력'))\n",
    "  list1.append(num)\n",
    "\n",
    "# 리스트에 저장된 입력받은 수 중 큰 수와 작은 수 찾기\n",
    "\n",
    "answer = max(list1) - min(list1)\n",
    "\n",
    "print(answer)"
   ]
  }
 ],
 "metadata": {
  "kernelspec": {
   "display_name": "Python 3",
   "language": "python",
   "name": "python3"
  },
  "language_info": {
   "codemirror_mode": {
    "name": "ipython",
    "version": 3
   },
   "file_extension": ".py",
   "mimetype": "text/x-python",
   "name": "python",
   "nbconvert_exporter": "python",
   "pygments_lexer": "ipython3",
   "version": "3.12.5"
  }
 },
 "nbformat": 4,
 "nbformat_minor": 2
}
