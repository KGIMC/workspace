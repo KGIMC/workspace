{
 "cells": [
  {
   "cell_type": "code",
   "execution_count": 9,
   "metadata": {},
   "outputs": [
    {
     "name": "stdout",
     "output_type": "stream",
     "text": [
      "입력받은 수는 2323233333393939399393939393입니다\n"
     ]
    }
   ],
   "source": [
    "# 키보드로 입력받기\n",
    "# input() 함수 사용으로 키보드로 값을 입력 받을 수 있다.\n",
    "# input() 함수를 사용하여 키보드로 입력받은 값은 문자열로 인식\n",
    "# 문자열 -> 정수 : int()\n",
    "num = input('숫자를 입력하세요')\n",
    "print(f'입력받은 수는 {num}입니다')"
   ]
  },
  {
   "cell_type": "code",
   "execution_count": 18,
   "metadata": {},
   "outputs": [
    {
     "name": "stdout",
     "output_type": "stream",
     "text": [
      "110\n"
     ]
    }
   ],
   "source": [
    "# 문자열을 정수로 변환\n",
    "result1 = int('10')\n",
    "result2 = int('100')\n",
    "\n",
    "print(result1 + result2)"
   ]
  },
  {
   "cell_type": "code",
   "execution_count": 20,
   "metadata": {},
   "outputs": [
    {
     "name": "stdout",
     "output_type": "stream",
     "text": [
      "입력받은 수의 합은 5입니다\n"
     ]
    }
   ],
   "source": [
    "# 두 정수를 입력받아 두 정수의 합을 출력하세요.\n",
    "num1 = input('첫번째 수를 입력하세요.')\n",
    "num2 = input('두번째 수를 입력하세요.')\n",
    "\n",
    "result1 = int(num1)\n",
    "result2 = int(num2)\n",
    "print(f'입력받은 수의 합은 {result1 + result2}입니다')"
   ]
  },
  {
   "cell_type": "code",
   "execution_count": 21,
   "metadata": {},
   "outputs": [
    {
     "name": "stdout",
     "output_type": "stream",
     "text": [
      "입력받은 수의 합은 5입니다\n"
     ]
    }
   ],
   "source": [
    "num1 = int(input('첫번째 수를 입력하세요.'))\n",
    "num2 = int(input('첫번째 수를 입력하세요.'))\n",
    "\n",
    "print(f'입력받은 수의 합은 {num1 + num2}입니다')"
   ]
  },
  {
   "cell_type": "code",
   "execution_count": 30,
   "metadata": {},
   "outputs": [
    {
     "name": "stdout",
     "output_type": "stream",
     "text": [
      "입력받은 학생의 이름은 90이며,\n",
      "입력받은 국어점수 90점\n",
      "입력받은 영어점수 90점\n",
      "입력받은 수학점수 90점\n",
      "입력받은 점수의 총합은 270점이고, 평균은 90점입니다.\n"
     ]
    }
   ],
   "source": [
    "# 키보드로 학생의 이름, 국어점수, 영어점수, 수학점수를 입력받아\n",
    "# 입력받은 학생의 이름, 국어점수, 영어점수, 수학점수 및 총점과 평균을 출력하세요\n",
    "\n",
    "name = input('이름을 입력하세요')\n",
    "korScore = int(input('국어점수를 입력하세요'))\n",
    "engScore = int(input('영어점수를 입력하세요'))\n",
    "mathScore = int(input('수학점수를 입력하세요.'))\n",
    "totalScore = korScore + engScore + mathScore\n",
    "\n",
    "print(f'입력받은 학생의 이름은 {name}이며,') \n",
    "print(f'입력받은 국어점수 {korScore}점')\n",
    "print(f'입력받은 영어점수 {engScore}점')\n",
    "print(f'입력받은 수학점수 {mathScore}점')\n",
    "print(f'입력받은 점수의 총합은 {korScore+engScore+mathScore}점이고, 평균은 {totalScore // 3}점입니다.')"
   ]
  },
  {
   "cell_type": "code",
   "execution_count": null,
   "metadata": {},
   "outputs": [],
   "source": []
  },
  {
   "cell_type": "code",
   "execution_count": null,
   "metadata": {},
   "outputs": [],
   "source": []
  }
 ],
 "metadata": {
  "kernelspec": {
   "display_name": "Python 3",
   "language": "python",
   "name": "python3"
  },
  "language_info": {
   "codemirror_mode": {
    "name": "ipython",
    "version": 3
   },
   "file_extension": ".py",
   "mimetype": "text/x-python",
   "name": "python",
   "nbconvert_exporter": "python",
   "pygments_lexer": "ipython3",
   "version": "3.12.4"
  }
 },
 "nbformat": 4,
 "nbformat_minor": 2
}
