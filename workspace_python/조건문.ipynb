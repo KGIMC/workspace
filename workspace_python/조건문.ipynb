{
 "cells": [
  {
   "cell_type": "code",
   "execution_count": 8,
   "metadata": {},
   "outputs": [
    {
     "name": "stdout",
     "output_type": "stream",
     "text": [
      "3\n"
     ]
    }
   ],
   "source": [
    "# 파이썬은 ;, {} 없음\n",
    "\n",
    "num = 5\n",
    "\n",
    "if num > 10 :\n",
    "  print(1)\n",
    "elif num > 5 :\n",
    "  print(2)\n",
    "else :\n",
    "  print(3)"
   ]
  },
  {
   "cell_type": "code",
   "execution_count": 15,
   "metadata": {},
   "outputs": [
    {
     "name": "stdout",
     "output_type": "stream",
     "text": [
      "1\n",
      "1\n",
      "2\n"
     ]
    }
   ],
   "source": [
    "# 조건문의 영역은 어디까지?\n",
    "# 파이썬은 모든 문법의 영역을 들여쓰기로 판단\n",
    "\n",
    "if 10 > 5 :\n",
    "  print(1)\n",
    "  print(1)\n",
    "print(2)"
   ]
  },
  {
   "cell_type": "code",
   "execution_count": 21,
   "metadata": {},
   "outputs": [
    {
     "name": "stdout",
     "output_type": "stream",
     "text": [
      "3\n"
     ]
    }
   ],
   "source": [
    "# 키보드로 두 정수를 입력받아 두 정수 중 큰 수를 출력\n",
    "\n",
    "num = int(input('첫번째 수를 입력하세요'))\n",
    "num2 = int(input('두번째 수를 입력하세요'))\n",
    "\n",
    "if num > num2 :\n",
    "  print(num)\n",
    "elif num2 > num :\n",
    "  print(num2)\n",
    "else :\n",
    "  print('동일한 값입니다.')"
   ]
  },
  {
   "cell_type": "code",
   "execution_count": null,
   "metadata": {},
   "outputs": [],
   "source": []
  },
  {
   "cell_type": "code",
   "execution_count": null,
   "metadata": {},
   "outputs": [],
   "source": []
  },
  {
   "cell_type": "code",
   "execution_count": null,
   "metadata": {},
   "outputs": [],
   "source": []
  },
  {
   "cell_type": "code",
   "execution_count": null,
   "metadata": {},
   "outputs": [],
   "source": []
  },
  {
   "cell_type": "code",
   "execution_count": null,
   "metadata": {},
   "outputs": [],
   "source": []
  }
 ],
 "metadata": {
  "kernelspec": {
   "display_name": "Python 3",
   "language": "python",
   "name": "python3"
  },
  "language_info": {
   "codemirror_mode": {
    "name": "ipython",
    "version": 3
   },
   "file_extension": ".py",
   "mimetype": "text/x-python",
   "name": "python",
   "nbconvert_exporter": "python",
   "pygments_lexer": "ipython3",
   "version": "3.12.4"
  }
 },
 "nbformat": 4,
 "nbformat_minor": 2
}
