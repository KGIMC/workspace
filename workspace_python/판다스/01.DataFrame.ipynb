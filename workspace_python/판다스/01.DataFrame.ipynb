{
 "cells": [
  {
   "cell_type": "code",
   "execution_count": 3,
   "metadata": {},
   "outputs": [
    {
     "data": {
      "text/plain": [
       "{'이름': ['김자바', '이자바', '박자바', '최자바', '정자바'],\n",
       " '학급': ['자바반', '자바반', '자바반', '캐드반', '캐드반'],\n",
       " '국어점수': [90, 80, 70, 100, 90],\n",
       " '영어점수': [70, 80, 80, 70, 90],\n",
       " '평균': [80.0, 80.0, 75.0, 85.0, 90.0],\n",
       " '취미': ['독서', '', '', '요가', '축구']}"
      ]
     },
     "execution_count": 3,
     "metadata": {},
     "output_type": "execute_result"
    }
   ],
   "source": [
    "# DataFrame을 생성하기 위한 기본 데이터\n",
    "\n",
    "data = {\n",
    "  '이름' : ['김자바', '이자바', '박자바', '최자바', '정자바'],\n",
    "  '학급' : ['자바반', '자바반', '자바반', '캐드반', '캐드반'],\n",
    "  '국어점수' : [90, 80, 70, 100, 90],\n",
    "  '영어점수' : [70, 80, 80, 70, 90],\n",
    "  '평균' : [80.0, 80.0, 75.0, 85.0, 90.0],\n",
    "  '취미' : ['독서', '', '', '요가', '축구']\n",
    "}\n",
    "\n",
    "data"
   ]
  },
  {
   "cell_type": "code",
   "execution_count": null,
   "metadata": {},
   "outputs": [],
   "source": [
    "# 판다스 라이브러리를 사용하기 위해서는 최초 1회 판다스를 설치\n",
    "# 터미널에서 pip install pandas"
   ]
  },
  {
   "cell_type": "code",
   "execution_count": 7,
   "metadata": {},
   "outputs": [],
   "source": [
    "# 판다스 라이브러리를 사용하기 위해서는 판다스를 import\n",
    "import pandas"
   ]
  },
  {
   "cell_type": "code",
   "execution_count": null,
   "metadata": {},
   "outputs": [],
   "source": [
    "# 판다스 라이브러리에서 제공하는 DataFrame 생성\n",
    "# DataFrame : 데이터 분석에서 사용, 데이터를 2차원 표 형태로 제공\n",
    "df = pandas.DataFrame(data)\n",
    "\n",
    "df['국어점수']"
   ]
  },
  {
   "cell_type": "code",
   "execution_count": null,
   "metadata": {},
   "outputs": [],
   "source": [
    "# DataFrame으로 만든 2차원 Data에서 특정 컬럼의 데이터만 조회하기\n",
    "df['이름']"
   ]
  },
  {
   "cell_type": "code",
   "execution_count": null,
   "metadata": {},
   "outputs": [],
   "source": [
    "# 특정 컬럼으로 이름, 학급 조회\n",
    "df1 = df['이름']\n",
    "df2 = df['학급']\n",
    "\n",
    "df[['이름', '학급']]"
   ]
  },
  {
   "cell_type": "code",
   "execution_count": null,
   "metadata": {},
   "outputs": [],
   "source": []
  },
  {
   "cell_type": "code",
   "execution_count": null,
   "metadata": {},
   "outputs": [],
   "source": []
  },
  {
   "cell_type": "code",
   "execution_count": null,
   "metadata": {},
   "outputs": [],
   "source": []
  }
 ],
 "metadata": {
  "kernelspec": {
   "display_name": "Python 3",
   "language": "python",
   "name": "python3"
  },
  "language_info": {
   "codemirror_mode": {
    "name": "ipython",
    "version": 3
   },
   "file_extension": ".py",
   "mimetype": "text/x-python",
   "name": "python",
   "nbconvert_exporter": "python",
   "pygments_lexer": "ipython3",
   "version": "3.12.4"
  }
 },
 "nbformat": 4,
 "nbformat_minor": 2
}
