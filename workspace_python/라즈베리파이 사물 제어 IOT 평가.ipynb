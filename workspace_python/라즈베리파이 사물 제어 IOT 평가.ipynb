{
 "cells": [
  {
   "cell_type": "markdown",
   "metadata": {},
   "source": [
    "### 라즈베리파이 사물 제어 IOT 평가"
   ]
  },
  {
   "cell_type": "markdown",
   "metadata": {},
   "source": [
    "1. 키보드로 두 수를 입력받아 큰 수부터 출력하는 프로그램을 작성하시요. 단, 입력받는 두 수는 중복이 없다고 가정한다."
   ]
  },
  {
   "cell_type": "code",
   "execution_count": 58,
   "metadata": {},
   "outputs": [
    {
     "name": "stdout",
     "output_type": "stream",
     "text": [
      "두수가 동일합니다. 다시 입력하세요.\n"
     ]
    }
   ],
   "source": [
    "# 1번 문제 답안 작성\n",
    "a = int(input('첫번째 수를 입력하세요'))\n",
    "b = int(input('두번째 수를 입력하세요'))\n",
    "\n",
    "if a > b :\n",
    "    print(a)\n",
    "elif b > a :\n",
    "    print(b)\n",
    "else :\n",
    "    print('두수가 동일합니다. 다시 입력하세요.')\n",
    "\n"
   ]
  },
  {
   "cell_type": "markdown",
   "metadata": {},
   "source": [
    "2. 키보드로 세 수를 입력받고,입력받은 세 수를 리스트에 저장하시오.<br> 그 후 리스트에 저장된 수 중 가장 큰 수와 가장 작은 수의 차를 출력하시오."
   ]
  },
  {
   "cell_type": "code",
   "execution_count": null,
   "metadata": {},
   "outputs": [],
   "source": [
    "# 2번 문제 답안 작성\n",
    "\n",
    "num1 = int(input('첫번째 수를 입력하세요.'))\n",
    "num2 = int(input('두번째 수를 입력하세요.'))\n",
    "num3 = int(input('세번째 수를 입력하세요.'))\n",
    "\n",
    "list1 = []\n",
    "\n",
    "list1.append(num1)\n",
    "list1.append(num2)\n",
    "list1.append(num3)\n",
    "\n",
    "max1 = max(list1)\n",
    "min1 = min(list1)\n",
    "\n",
    "print(max1 - min1)"
   ]
  },
  {
   "cell_type": "markdown",
   "metadata": {},
   "source": [
    "3. 매개변수로 두 정수를 받아, 두 정수 사이의(두 정수 포함) 모든 정수를 갖는 리스트를 리턴하는 함수를 구현하시오."
   ]
  },
  {
   "cell_type": "code",
   "execution_count": 79,
   "metadata": {},
   "outputs": [
    {
     "name": "stdout",
     "output_type": "stream",
     "text": [
      "1 2 3 4 5 6 7 8 9 10 "
     ]
    }
   ],
   "source": [
    "# 3번 문제 답안 작성\n",
    "\n",
    "num1 = int(input('첫번째 수를 입력하세요.'))\n",
    "num2 = int(input('두번째 수를 입력하세요.'))\n",
    "\n",
    "list1 = []\n",
    "\n",
    "if num1 > num2:\n",
    "    list1.extend(range(num2, num1 + 1))\n",
    "else:\n",
    "    list1.extend(range(num1, num2 + 1))\n",
    "\n",
    "for num in list1:\n",
    "    print(num, end=' ')"
   ]
  },
  {
   "cell_type": "markdown",
   "metadata": {},
   "source": [
    "4. 아래 제시된 phone 객체에 제조사, 모델명, 가격 정보를 키보드로 입력받아,   \n",
    "입력받은 내용을 추가하고 phone 정보를 출력하시오."
   ]
  },
  {
   "cell_type": "code",
   "execution_count": 34,
   "metadata": {},
   "outputs": [
    {
     "name": "stdout",
     "output_type": "stream",
     "text": [
      "{'brand': '제조사', 'modelName': '모델명', 'price': 10000}\n"
     ]
    }
   ],
   "source": [
    "phone = {}\n",
    "\n",
    "# 4번 문제 답안 작성\n",
    "phone['brand'] = input(\"제조사를 입력하세요\")\n",
    "phone['modelName'] = input(\"모델명을 입력하세요\")\n",
    "phone['price'] = int(input(\"가격을 입력하세요\"))\n",
    "\n",
    "print(phone)"
   ]
  },
  {
   "cell_type": "markdown",
   "metadata": {},
   "source": [
    "5. 아래 데이터는 자바반과 자반에 소속된 학생들의 정보이다.  \n",
    "나이가 30살 이상인 학생들의 점수의 합을 출력하세요."
   ]
  },
  {
   "cell_type": "code",
   "execution_count": 73,
   "metadata": {},
   "outputs": [
    {
     "name": "stdout",
     "output_type": "stream",
     "text": [
      "103\n"
     ]
    }
   ],
   "source": [
    "javaClass= {\n",
    "  'calssName' : '자바반',\n",
    "  'teacher' : '김자바',\n",
    "  'studentList' : [\n",
    "    {'name' : '홍길동', 'age': 31, 'score' : 85},\n",
    "    {'name' : '이순신', 'age': 35, 'score' : 95},\n",
    "    {'name' : '유관순', 'age': 29, 'score' : 80},\n",
    "    {'name' : '장영실', 'age': 37, 'score' : 70},\n",
    "    {'name' : '신사임당', 'age': 25, 'score' : 65},\n",
    "  ]\n",
    "}\n",
    "\n",
    "# 5번 문제 답안 작성\n",
    "cnt = 0\n",
    "for student in javaClass['studentList']:\n",
    "      if student['age'] > 30 :\n",
    "        cnt = cnt + student['age']\n",
    "print(cnt)"
   ]
  },
  {
   "cell_type": "markdown",
   "metadata": {},
   "source": [
    "다음 딕셔너리 데이터를 참고하여 아래 문제들을 해결하시오."
   ]
  },
  {
   "cell_type": "code",
   "execution_count": 4,
   "metadata": {},
   "outputs": [],
   "source": [
    "# 2012년 광역시별 25세 미만 연령별 인구 데이터\n",
    "population = {\n",
    "    '행정기관' : ['서울특별시', '부산광역시', '대구광역시', '인천광역시', '울산광역시'],\n",
    "    '0~4세' : [214651, 68006, 53515, 69453, 29835],\n",
    "    '5~9세' : [210833, 68704, 58332, 68555, 29331],\n",
    "    '10~14세' : [269171, 94802, 91268, 86574, 29035],\n",
    "    '15~19세' : [335828, 124564, 101110, 106435, 49119],\n",
    "    '20~24세' : [343797, 125907, 96078, 102297, 43937]\n",
    "}"
   ]
  },
  {
   "cell_type": "markdown",
   "metadata": {},
   "source": [
    "6. 2012년 기준 대한민국에서 25세 미만의 인구수 중 인구가 가장 많은 연령대를 출력하시오."
   ]
  },
  {
   "cell_type": "code",
   "execution_count": 35,
   "metadata": {},
   "outputs": [
    {
     "name": "stdout",
     "output_type": "stream",
     "text": [
      "가장 높은 인구수를 가진 연령대는 15~19세입니다.\n"
     ]
    }
   ],
   "source": [
    "# 6번 문제 답안 작성\n",
    "\n",
    "import pandas\n",
    "po = pandas.DataFrame(population)\n",
    "\n",
    "a = po['0~4세'].sum()\n",
    "b = po['5~9세'].sum()\n",
    "c = po['10~14세'].sum()\n",
    "d = po['15~19세'].sum()\n",
    "e = po['20~24세'].sum()\n",
    "\n",
    "population_g = {\n",
    "    '0~4세': a,\n",
    "    '5~9세': b,\n",
    "    '10~14세': c,\n",
    "    '15~19세': d,\n",
    "    '20~24세': e\n",
    "}\n",
    "\n",
    "max_age = max(population_g, key=population_g.get)\n",
    "\n",
    "# 결과 출력\n",
    "print(f\"가장 높은 인구수를 가진 연령대는 {max_age}입니다.\")\n",
    "\n"
   ]
  },
  {
   "cell_type": "markdown",
   "metadata": {},
   "source": [
    "7. '총 인구수' 라는 키를 추가하고, 해당 키에 0세부터 24세까지의 인구 합을 데이터로 하여 population 데이터에 추가하시오."
   ]
  },
  {
   "cell_type": "code",
   "execution_count": 81,
   "metadata": {},
   "outputs": [
    {
     "data": {
      "text/plain": [
       "{'행정기관': ['서울특별시', '부산광역시', '대구광역시', '인천광역시', '울산광역시'],\n",
       " '0~4세': [214651, 68006, 53515, 69453, 29835],\n",
       " '5~9세': [210833, 68704, 58332, 68555, 29331],\n",
       " '10~14세': [269171, 94802, 91268, 86574, 29035],\n",
       " '15~19세': [335828, 124564, 101110, 106435, 49119],\n",
       " '20~24세': [343797, 125907, 96078, 102297, 43937],\n",
       " '총 인구수': {np.int64(1999932)}}"
      ]
     },
     "execution_count": 81,
     "metadata": {},
     "output_type": "execute_result"
    }
   ],
   "source": [
    "# 7번 문제 답안 작성\n",
    "population = {\n",
    "    '행정기관' : ['서울특별시', '부산광역시', '대구광역시', '인천광역시', '울산광역시'],\n",
    "    '0~4세' : [214651, 68006, 53515, 69453, 29835],\n",
    "    '5~9세' : [210833, 68704, 58332, 68555, 29331],\n",
    "    '10~14세' : [269171, 94802, 91268, 86574, 29035],\n",
    "    '15~19세' : [335828, 124564, 101110, 106435, 49119],\n",
    "    '20~24세' : [343797, 125907, 96078, 102297, 43937]\n",
    "}\n",
    "\n",
    "population_g = {\n",
    "    '0~4세': a,\n",
    "    '5~9세': b,\n",
    "    '10~14세': c,\n",
    "    '15~19세': d,\n",
    "    '20~24세': e\n",
    "}\n",
    "\n",
    "\n",
    "population['총 인구수'] = {\n",
    "    a + b + c + d + e\n",
    "}\n",
    "\n",
    "population\n"
   ]
  }
 ],
 "metadata": {
  "kernelspec": {
   "display_name": "Python 3",
   "language": "python",
   "name": "python3"
  },
  "language_info": {
   "codemirror_mode": {
    "name": "ipython",
    "version": 3
   },
   "file_extension": ".py",
   "mimetype": "text/x-python",
   "name": "python",
   "nbconvert_exporter": "python",
   "pygments_lexer": "ipython3",
   "version": "3.12.4"
  }
 },
 "nbformat": 4,
 "nbformat_minor": 2
}
